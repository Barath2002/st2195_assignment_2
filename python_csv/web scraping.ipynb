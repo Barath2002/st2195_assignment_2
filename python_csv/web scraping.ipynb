{
 "cells": [
  {
   "cell_type": "markdown",
   "id": "6419dd7d",
   "metadata": {},
   "source": [
    "# Web Scraping\n"
   ]
  },
  {
   "cell_type": "code",
   "execution_count": 8,
   "id": "f26c2e25",
   "metadata": {},
   "outputs": [
    {
     "name": "stdout",
     "output_type": "stream",
     "text": [
      "   Year   Make                                   Model  \\\n",
      "0  1997   Ford                                    E350   \n",
      "1  1999  Chevy              Venture \"Extended Edition\"   \n",
      "2  1999  Chevy  Venture \"Extended Edition, Very Large\"   \n",
      "3  1996   Jeep                          Grand Cherokee   \n",
      "\n",
      "                        Description   Price  \n",
      "0                     ac, abs, moon  3000.0  \n",
      "1                               NaN  4900.0  \n",
      "2                               NaN  5000.0  \n",
      "3  MUST SELL!air, moon roof, loaded  4799.0  \n"
     ]
    }
   ],
   "source": [
    "import pandas as pd\n",
    "link = \"https://en.wikipedia.org/wiki/Comma-separated_values\"\n",
    "tables = pd.read_html(link)\n",
    "table = tables[1]\n",
    "print(table)\n",
    "table.to_csv(\"table.csv\")"
   ]
  },
  {
   "cell_type": "code",
   "execution_count": null,
   "id": "a2bac3a7",
   "metadata": {},
   "outputs": [],
   "source": []
  },
  {
   "cell_type": "code",
   "execution_count": null,
   "id": "c7fb3683",
   "metadata": {},
   "outputs": [],
   "source": []
  }
 ],
 "metadata": {
  "kernelspec": {
   "display_name": "Python 3",
   "language": "python",
   "name": "python3"
  },
  "language_info": {
   "codemirror_mode": {
    "name": "ipython",
    "version": 3
   },
   "file_extension": ".py",
   "mimetype": "text/x-python",
   "name": "python",
   "nbconvert_exporter": "python",
   "pygments_lexer": "ipython3",
   "version": "3.8.8"
  }
 },
 "nbformat": 4,
 "nbformat_minor": 5
}
